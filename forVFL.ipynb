{
 "cells": [
  {
   "cell_type": "code",
   "execution_count": 1,
   "metadata": {
    "collapsed": true
   },
   "outputs": [],
   "source": [
    "import requests\n",
    "import pandas as pd\n",
    "from bs4 import BeautifulSoup"
   ]
  },
  {
   "cell_type": "markdown",
   "metadata": {},
   "source": [
    "__REFERENCE WEBSITE__ <br>\n",
    "http://h1bdata.info"
   ]
  },
  {
   "cell_type": "code",
   "execution_count": 2,
   "metadata": {
    "collapsed": true
   },
   "outputs": [],
   "source": [
    "def collect_tables(target):\n",
    "    # access website, populate form, get results as html\n",
    "    url = \"http://h1bdata.info/index.php?em={}\".format(target)\n",
    "    content = requests.get(url).text\n",
    "    \n",
    "    #process the html code\n",
    "    soup = BeautifulSoup(content)\n",
    "    table = soup.find(\"tbody\")  #go to table body\n",
    "    colnames = [tag.text for tag in soup.find(\"thead\").find_all(\"th\")]  #fetch Column headers\n",
    "\n",
    "    #cycle through tags and populate df with contents\n",
    "    df = pd.DataFrame(\n",
    "        ((tag.text for tag in lst.find_all(\"td\")) for lst in table.find_all(\"tr\")),\n",
    "        columns = colnames\n",
    "    )\n",
    "    return df"
   ]
  },
  {
   "cell_type": "markdown",
   "metadata": {
    "collapsed": true
   },
   "source": [
    "### Fetch the Data from the Web"
   ]
  },
  {
   "cell_type": "code",
   "execution_count": 3,
   "metadata": {},
   "outputs": [
    {
     "name": "stderr",
     "output_type": "stream",
     "text": [
      "C:\\Users\\traveler\\Anaconda3\\envs\\py35\\lib\\site-packages\\bs4\\__init__.py:181: UserWarning: No parser was explicitly specified, so I'm using the best available HTML parser for this system (\"lxml\"). This usually isn't a problem, but if you run this code on another system, or in a different virtual environment, it may use a different parser and behave differently.\n",
      "\n",
      "The code that caused this warning is on line 193 of the file C:\\Users\\traveler\\Anaconda3\\envs\\py35\\lib\\runpy.py. To get rid of this warning, change code that looks like this:\n",
      "\n",
      " BeautifulSoup(YOUR_MARKUP})\n",
      "\n",
      "to this:\n",
      "\n",
      " BeautifulSoup(YOUR_MARKUP, \"lxml\")\n",
      "\n",
      "  markup_type=markup_type))\n"
     ]
    }
   ],
   "source": [
    "#list of companies for which to fetch data\n",
    "targets = [\"Bloomberg\", \"Factset\"]\n",
    "\n",
    "#iteratively call the UDF for each company in the list\n",
    "collection = [collect_tables(target) for target in targets]"
   ]
  },
  {
   "cell_type": "code",
   "execution_count": 4,
   "metadata": {},
   "outputs": [
    {
     "data": {
      "text/html": [
       "<div>\n",
       "<table border=\"1\" class=\"dataframe\">\n",
       "  <thead>\n",
       "    <tr style=\"text-align: right;\">\n",
       "      <th></th>\n",
       "      <th>EMPLOYER</th>\n",
       "      <th>JOB TITLE</th>\n",
       "      <th>BASE SALARY</th>\n",
       "      <th>LOCATION</th>\n",
       "      <th>SUBMIT DATE</th>\n",
       "      <th>START DATE</th>\n",
       "      <th>CASE STATUS</th>\n",
       "    </tr>\n",
       "  </thead>\n",
       "  <tbody>\n",
       "    <tr>\n",
       "      <th>0</th>\n",
       "      <td>BLOOMBERG LP</td>\n",
       "      <td>ABAP DEVELOPER</td>\n",
       "      <td>135,000</td>\n",
       "      <td>NEW YORK, NY</td>\n",
       "      <td>02/18/2014</td>\n",
       "      <td>03/03/2014</td>\n",
       "      <td>CERTIFIED</td>\n",
       "    </tr>\n",
       "    <tr>\n",
       "      <th>1</th>\n",
       "      <td>BLOOMBERG LP</td>\n",
       "      <td>ABAP DEVELOPER</td>\n",
       "      <td>145,000</td>\n",
       "      <td>NEW YORK, NY</td>\n",
       "      <td>02/18/2014</td>\n",
       "      <td>08/01/2014</td>\n",
       "      <td>CERTIFIED</td>\n",
       "    </tr>\n",
       "    <tr>\n",
       "      <th>2</th>\n",
       "      <td>BLOOMBERG LP</td>\n",
       "      <td>ACCOUNT MANAGER</td>\n",
       "      <td>87,500</td>\n",
       "      <td>NEW YORK, NY</td>\n",
       "      <td>03/15/2016</td>\n",
       "      <td>09/01/2016</td>\n",
       "      <td>CERTIFIED</td>\n",
       "    </tr>\n",
       "    <tr>\n",
       "      <th>3</th>\n",
       "      <td>BLOOMBERG LP</td>\n",
       "      <td>ACCOUNT MANAGER</td>\n",
       "      <td>89,500</td>\n",
       "      <td>NEW YORK, NY</td>\n",
       "      <td>01/30/2018</td>\n",
       "      <td>07/26/2018</td>\n",
       "      <td>CERTIFIED</td>\n",
       "    </tr>\n",
       "    <tr>\n",
       "      <th>4</th>\n",
       "      <td>BLOOMBERG LP</td>\n",
       "      <td>ACCOUNT MANAGER</td>\n",
       "      <td>100,000</td>\n",
       "      <td>NEW YORK, NY</td>\n",
       "      <td>01/30/2018</td>\n",
       "      <td>07/26/2018</td>\n",
       "      <td>CERTIFIED</td>\n",
       "    </tr>\n",
       "  </tbody>\n",
       "</table>\n",
       "</div>"
      ],
      "text/plain": [
       "       EMPLOYER        JOB TITLE BASE SALARY      LOCATION SUBMIT DATE  \\\n",
       "0  BLOOMBERG LP   ABAP DEVELOPER     135,000  NEW YORK, NY  02/18/2014   \n",
       "1  BLOOMBERG LP   ABAP DEVELOPER     145,000  NEW YORK, NY  02/18/2014   \n",
       "2  BLOOMBERG LP  ACCOUNT MANAGER      87,500  NEW YORK, NY  03/15/2016   \n",
       "3  BLOOMBERG LP  ACCOUNT MANAGER      89,500  NEW YORK, NY  01/30/2018   \n",
       "4  BLOOMBERG LP  ACCOUNT MANAGER     100,000  NEW YORK, NY  01/30/2018   \n",
       "\n",
       "   START DATE CASE STATUS  \n",
       "0  03/03/2014   CERTIFIED  \n",
       "1  08/01/2014   CERTIFIED  \n",
       "2  09/01/2016   CERTIFIED  \n",
       "3  07/26/2018   CERTIFIED  \n",
       "4  07/26/2018   CERTIFIED  "
      ]
     },
     "execution_count": 4,
     "metadata": {},
     "output_type": "execute_result"
    }
   ],
   "source": [
    "collection[0].head()"
   ]
  },
  {
   "cell_type": "code",
   "execution_count": 5,
   "metadata": {},
   "outputs": [
    {
     "data": {
      "text/html": [
       "<div>\n",
       "<table border=\"1\" class=\"dataframe\">\n",
       "  <thead>\n",
       "    <tr style=\"text-align: right;\">\n",
       "      <th></th>\n",
       "      <th>EMPLOYER</th>\n",
       "      <th>JOB TITLE</th>\n",
       "      <th>BASE SALARY</th>\n",
       "      <th>LOCATION</th>\n",
       "      <th>SUBMIT DATE</th>\n",
       "      <th>START DATE</th>\n",
       "      <th>CASE STATUS</th>\n",
       "    </tr>\n",
       "  </thead>\n",
       "  <tbody>\n",
       "    <tr>\n",
       "      <th>0</th>\n",
       "      <td>FACTSET RESEARCH SYSTEMS INC</td>\n",
       "      <td>AMERICAS GLOBAL BANKS GBB STRATEGIC CONSULTANT</td>\n",
       "      <td>63,086</td>\n",
       "      <td>NEW YORK, NY</td>\n",
       "      <td>03/10/2015</td>\n",
       "      <td>09/05/2015</td>\n",
       "      <td>CERTIFIED</td>\n",
       "    </tr>\n",
       "    <tr>\n",
       "      <th>1</th>\n",
       "      <td>FACTSET RESEARCH SYSTEMS INC</td>\n",
       "      <td>ANALYTICS RESEARCH ASSISTANT</td>\n",
       "      <td>96,000</td>\n",
       "      <td>NEW YORK, NY</td>\n",
       "      <td>03/03/2017</td>\n",
       "      <td>08/30/2017</td>\n",
       "      <td>CERTIFIED</td>\n",
       "    </tr>\n",
       "    <tr>\n",
       "      <th>2</th>\n",
       "      <td>FACTSET RESEARCH SYSTEMS INC</td>\n",
       "      <td>ASSOCIATE CONTENT MANAGER</td>\n",
       "      <td>37,100</td>\n",
       "      <td>YOUNGSTOWN, OH</td>\n",
       "      <td>03/09/2017</td>\n",
       "      <td>08/24/2017</td>\n",
       "      <td>CERTIFIED</td>\n",
       "    </tr>\n",
       "    <tr>\n",
       "      <th>3</th>\n",
       "      <td>FACTSET RESEARCH SYSTEMS INC</td>\n",
       "      <td>ASSOCIATE CONTENT MANAGER</td>\n",
       "      <td>60,000</td>\n",
       "      <td>NORWALK, CT</td>\n",
       "      <td>04/09/2015</td>\n",
       "      <td>04/20/2015</td>\n",
       "      <td>CERTIFIED</td>\n",
       "    </tr>\n",
       "    <tr>\n",
       "      <th>4</th>\n",
       "      <td>FACTSET RESEARCH SYSTEMS INC</td>\n",
       "      <td>ASSOCIATE CONTENT MANAGER</td>\n",
       "      <td>60,000</td>\n",
       "      <td>NORWALK, CT</td>\n",
       "      <td>04/07/2014</td>\n",
       "      <td>10/02/2014</td>\n",
       "      <td>CERTIFIED</td>\n",
       "    </tr>\n",
       "  </tbody>\n",
       "</table>\n",
       "</div>"
      ],
      "text/plain": [
       "                       EMPLOYER  \\\n",
       "0  FACTSET RESEARCH SYSTEMS INC   \n",
       "1  FACTSET RESEARCH SYSTEMS INC   \n",
       "2  FACTSET RESEARCH SYSTEMS INC   \n",
       "3  FACTSET RESEARCH SYSTEMS INC   \n",
       "4  FACTSET RESEARCH SYSTEMS INC   \n",
       "\n",
       "                                        JOB TITLE BASE SALARY        LOCATION  \\\n",
       "0  AMERICAS GLOBAL BANKS GBB STRATEGIC CONSULTANT      63,086    NEW YORK, NY   \n",
       "1                    ANALYTICS RESEARCH ASSISTANT      96,000    NEW YORK, NY   \n",
       "2                       ASSOCIATE CONTENT MANAGER      37,100  YOUNGSTOWN, OH   \n",
       "3                       ASSOCIATE CONTENT MANAGER      60,000     NORWALK, CT   \n",
       "4                       ASSOCIATE CONTENT MANAGER      60,000     NORWALK, CT   \n",
       "\n",
       "  SUBMIT DATE  START DATE CASE STATUS  \n",
       "0  03/10/2015  09/05/2015   CERTIFIED  \n",
       "1  03/03/2017  08/30/2017   CERTIFIED  \n",
       "2  03/09/2017  08/24/2017   CERTIFIED  \n",
       "3  04/09/2015  04/20/2015   CERTIFIED  \n",
       "4  04/07/2014  10/02/2014   CERTIFIED  "
      ]
     },
     "execution_count": 5,
     "metadata": {},
     "output_type": "execute_result"
    }
   ],
   "source": [
    "collection[1].head()"
   ]
  },
  {
   "cell_type": "code",
   "execution_count": 6,
   "metadata": {},
   "outputs": [
    {
     "data": {
      "text/html": [
       "<div>\n",
       "<table border=\"1\" class=\"dataframe\">\n",
       "  <thead>\n",
       "    <tr style=\"text-align: right;\">\n",
       "      <th></th>\n",
       "      <th>EMPLOYER</th>\n",
       "      <th>JOB TITLE</th>\n",
       "      <th>BASE SALARY</th>\n",
       "      <th>LOCATION</th>\n",
       "      <th>SUBMIT DATE</th>\n",
       "      <th>START DATE</th>\n",
       "      <th>CASE STATUS</th>\n",
       "    </tr>\n",
       "  </thead>\n",
       "  <tbody>\n",
       "    <tr>\n",
       "      <th>2797</th>\n",
       "      <td>FACTSET RESEARCH SYSTEMS INC</td>\n",
       "      <td>TECHNICAL CONSULTANT</td>\n",
       "      <td>100,000</td>\n",
       "      <td>LOS ANGELES, CA</td>\n",
       "      <td>03/21/2018</td>\n",
       "      <td>06/04/2018</td>\n",
       "      <td>CERTIFIED</td>\n",
       "    </tr>\n",
       "    <tr>\n",
       "      <th>2798</th>\n",
       "      <td>FACTSET RESEARCH SYSTEMS INC</td>\n",
       "      <td>UNIVERSAL SCREENING APPLICATION MANAGER</td>\n",
       "      <td>117,000</td>\n",
       "      <td>NORWALK, CT</td>\n",
       "      <td>03/06/2015</td>\n",
       "      <td>09/02/2015</td>\n",
       "      <td>CERTIFIED</td>\n",
       "    </tr>\n",
       "    <tr>\n",
       "      <th>2799</th>\n",
       "      <td>FACTSET RESEARCH SYSTEMS INC</td>\n",
       "      <td>VICE PRESIDENT, ASSOCIATE DIRECTOR, SALES AND ...</td>\n",
       "      <td>140,000</td>\n",
       "      <td>NORWALK, CT</td>\n",
       "      <td>08/31/2017</td>\n",
       "      <td>02/20/2018</td>\n",
       "      <td>CERTIFIED</td>\n",
       "    </tr>\n",
       "    <tr>\n",
       "      <th>2800</th>\n",
       "      <td>FACTSET RESEARCH SYSTEMS INC</td>\n",
       "      <td>VICE PRESIDENT, ASSOCIATE DIRECTOR, SALES AND ...</td>\n",
       "      <td>140,000</td>\n",
       "      <td>NORWALK, CT</td>\n",
       "      <td>09/06/2017</td>\n",
       "      <td>02/20/2018</td>\n",
       "      <td>CERTIFIED</td>\n",
       "    </tr>\n",
       "    <tr>\n",
       "      <th>2801</th>\n",
       "      <td>FACTSET RESEARCH SYSTEMS INC</td>\n",
       "      <td>VICE PRESIDENT, ASSOCIATE DIRECTOR, SALES AND ...</td>\n",
       "      <td>161,512</td>\n",
       "      <td>NORWALK, CT</td>\n",
       "      <td>01/16/2018</td>\n",
       "      <td>02/20/2018</td>\n",
       "      <td>CERTIFIED</td>\n",
       "    </tr>\n",
       "  </tbody>\n",
       "</table>\n",
       "</div>"
      ],
      "text/plain": [
       "                          EMPLOYER  \\\n",
       "2797  FACTSET RESEARCH SYSTEMS INC   \n",
       "2798  FACTSET RESEARCH SYSTEMS INC   \n",
       "2799  FACTSET RESEARCH SYSTEMS INC   \n",
       "2800  FACTSET RESEARCH SYSTEMS INC   \n",
       "2801  FACTSET RESEARCH SYSTEMS INC   \n",
       "\n",
       "                                              JOB TITLE BASE SALARY  \\\n",
       "2797                               TECHNICAL CONSULTANT     100,000   \n",
       "2798            UNIVERSAL SCREENING APPLICATION MANAGER     117,000   \n",
       "2799  VICE PRESIDENT, ASSOCIATE DIRECTOR, SALES AND ...     140,000   \n",
       "2800  VICE PRESIDENT, ASSOCIATE DIRECTOR, SALES AND ...     140,000   \n",
       "2801  VICE PRESIDENT, ASSOCIATE DIRECTOR, SALES AND ...     161,512   \n",
       "\n",
       "             LOCATION SUBMIT DATE  START DATE CASE STATUS  \n",
       "2797  LOS ANGELES, CA  03/21/2018  06/04/2018   CERTIFIED  \n",
       "2798      NORWALK, CT  03/06/2015  09/02/2015   CERTIFIED  \n",
       "2799      NORWALK, CT  08/31/2017  02/20/2018   CERTIFIED  \n",
       "2800      NORWALK, CT  09/06/2017  02/20/2018   CERTIFIED  \n",
       "2801      NORWALK, CT  01/16/2018  02/20/2018   CERTIFIED  "
      ]
     },
     "execution_count": 6,
     "metadata": {},
     "output_type": "execute_result"
    }
   ],
   "source": [
    "#combine the indiviual dataframes into one big dataframe\n",
    "df = pd.concat(collection).reset_index(drop=True)\n",
    "df.tail()"
   ]
  },
  {
   "cell_type": "code",
   "execution_count": 7,
   "metadata": {},
   "outputs": [
    {
     "data": {
      "text/plain": [
       "Index(['EMPLOYER', 'JOB TITLE', 'BASE SALARY', 'LOCATION', 'SUBMIT DATE',\n",
       "       'START DATE', 'CASE STATUS'],\n",
       "      dtype='object')"
      ]
     },
     "execution_count": 7,
     "metadata": {},
     "output_type": "execute_result"
    }
   ],
   "source": [
    "df.columns"
   ]
  },
  {
   "cell_type": "code",
   "execution_count": 8,
   "metadata": {},
   "outputs": [
    {
     "data": {
      "text/plain": [
       "2802"
      ]
     },
     "execution_count": 8,
     "metadata": {},
     "output_type": "execute_result"
    }
   ],
   "source": [
    "len(df)"
   ]
  },
  {
   "cell_type": "markdown",
   "metadata": {},
   "source": [
    "### Clean the Data"
   ]
  },
  {
   "cell_type": "code",
   "execution_count": 9,
   "metadata": {},
   "outputs": [
    {
     "data": {
      "text/plain": [
       "numpy.int32"
      ]
     },
     "execution_count": 9,
     "metadata": {},
     "output_type": "execute_result"
    }
   ],
   "source": [
    "#get a fresh DF\n",
    "df_ = pd.concat(collection).reset_index(drop=True)\n",
    "\n",
    "#strip the comma, cast to 'int'\n",
    "df_['BASE SALARY'] = df_['BASE SALARY'].str.replace(',','').astype(int)\n",
    "type(df_['BASE SALARY'][0])"
   ]
  },
  {
   "cell_type": "code",
   "execution_count": 10,
   "metadata": {},
   "outputs": [
    {
     "data": {
      "text/html": [
       "<div>\n",
       "<table border=\"1\" class=\"dataframe\">\n",
       "  <thead>\n",
       "    <tr style=\"text-align: right;\">\n",
       "      <th></th>\n",
       "      <th>EMPLOYER</th>\n",
       "      <th>JOB TITLE</th>\n",
       "      <th>BASE SALARY</th>\n",
       "      <th>LOCATION</th>\n",
       "      <th>SUBMIT DATE</th>\n",
       "      <th>START DATE</th>\n",
       "      <th>CASE STATUS</th>\n",
       "      <th>STATE</th>\n",
       "    </tr>\n",
       "  </thead>\n",
       "  <tbody>\n",
       "    <tr>\n",
       "      <th>0</th>\n",
       "      <td>BLOOMBERG LP</td>\n",
       "      <td>ABAP DEVELOPER</td>\n",
       "      <td>135000</td>\n",
       "      <td>NEW YORK, NY</td>\n",
       "      <td>02/18/2014</td>\n",
       "      <td>03/03/2014</td>\n",
       "      <td>CERTIFIED</td>\n",
       "      <td>NY</td>\n",
       "    </tr>\n",
       "    <tr>\n",
       "      <th>1</th>\n",
       "      <td>BLOOMBERG LP</td>\n",
       "      <td>ABAP DEVELOPER</td>\n",
       "      <td>145000</td>\n",
       "      <td>NEW YORK, NY</td>\n",
       "      <td>02/18/2014</td>\n",
       "      <td>08/01/2014</td>\n",
       "      <td>CERTIFIED</td>\n",
       "      <td>NY</td>\n",
       "    </tr>\n",
       "    <tr>\n",
       "      <th>2</th>\n",
       "      <td>BLOOMBERG LP</td>\n",
       "      <td>ACCOUNT MANAGER</td>\n",
       "      <td>87500</td>\n",
       "      <td>NEW YORK, NY</td>\n",
       "      <td>03/15/2016</td>\n",
       "      <td>09/01/2016</td>\n",
       "      <td>CERTIFIED</td>\n",
       "      <td>NY</td>\n",
       "    </tr>\n",
       "    <tr>\n",
       "      <th>3</th>\n",
       "      <td>BLOOMBERG LP</td>\n",
       "      <td>ACCOUNT MANAGER</td>\n",
       "      <td>89500</td>\n",
       "      <td>NEW YORK, NY</td>\n",
       "      <td>01/30/2018</td>\n",
       "      <td>07/26/2018</td>\n",
       "      <td>CERTIFIED</td>\n",
       "      <td>NY</td>\n",
       "    </tr>\n",
       "    <tr>\n",
       "      <th>4</th>\n",
       "      <td>BLOOMBERG LP</td>\n",
       "      <td>ACCOUNT MANAGER</td>\n",
       "      <td>100000</td>\n",
       "      <td>NEW YORK, NY</td>\n",
       "      <td>01/30/2018</td>\n",
       "      <td>07/26/2018</td>\n",
       "      <td>CERTIFIED</td>\n",
       "      <td>NY</td>\n",
       "    </tr>\n",
       "  </tbody>\n",
       "</table>\n",
       "</div>"
      ],
      "text/plain": [
       "       EMPLOYER        JOB TITLE  BASE SALARY      LOCATION SUBMIT DATE  \\\n",
       "0  BLOOMBERG LP   ABAP DEVELOPER       135000  NEW YORK, NY  02/18/2014   \n",
       "1  BLOOMBERG LP   ABAP DEVELOPER       145000  NEW YORK, NY  02/18/2014   \n",
       "2  BLOOMBERG LP  ACCOUNT MANAGER        87500  NEW YORK, NY  03/15/2016   \n",
       "3  BLOOMBERG LP  ACCOUNT MANAGER        89500  NEW YORK, NY  01/30/2018   \n",
       "4  BLOOMBERG LP  ACCOUNT MANAGER       100000  NEW YORK, NY  01/30/2018   \n",
       "\n",
       "   START DATE CASE STATUS STATE  \n",
       "0  03/03/2014   CERTIFIED    NY  \n",
       "1  08/01/2014   CERTIFIED    NY  \n",
       "2  09/01/2016   CERTIFIED    NY  \n",
       "3  07/26/2018   CERTIFIED    NY  \n",
       "4  07/26/2018   CERTIFIED    NY  "
      ]
     },
     "execution_count": 10,
     "metadata": {},
     "output_type": "execute_result"
    }
   ],
   "source": [
    "#add a column for the state state\n",
    "newcol = df_['LOCATION'].apply(lambda x: x.split(', ') [-1])\n",
    "df_['STATE'] = newcol\n",
    "df_.head()"
   ]
  },
  {
   "cell_type": "markdown",
   "metadata": {},
   "source": [
    "### Basic Aggregation"
   ]
  },
  {
   "cell_type": "code",
   "execution_count": 11,
   "metadata": {},
   "outputs": [
    {
     "data": {
      "text/html": [
       "<div>\n",
       "<table border=\"1\" class=\"dataframe\">\n",
       "  <thead>\n",
       "    <tr style=\"text-align: right;\">\n",
       "      <th></th>\n",
       "      <th>count</th>\n",
       "      <th>mean</th>\n",
       "      <th>min</th>\n",
       "      <th>max</th>\n",
       "    </tr>\n",
       "    <tr>\n",
       "      <th>EMPLOYER</th>\n",
       "      <th></th>\n",
       "      <th></th>\n",
       "      <th></th>\n",
       "      <th></th>\n",
       "    </tr>\n",
       "  </thead>\n",
       "  <tbody>\n",
       "    <tr>\n",
       "      <th>BLOOMBERG LP</th>\n",
       "      <td>2130</td>\n",
       "      <td>142303.227</td>\n",
       "      <td>45000</td>\n",
       "      <td>585000</td>\n",
       "    </tr>\n",
       "    <tr>\n",
       "      <th>FACTSET RESEARCH SYSTEMS INC</th>\n",
       "      <td>653</td>\n",
       "      <td>92029.936</td>\n",
       "      <td>30035</td>\n",
       "      <td>210000</td>\n",
       "    </tr>\n",
       "    <tr>\n",
       "      <th>BLOOMBERG TRADEBOOK LLC</th>\n",
       "      <td>9</td>\n",
       "      <td>180944.444</td>\n",
       "      <td>50000</td>\n",
       "      <td>315000</td>\n",
       "    </tr>\n",
       "    <tr>\n",
       "      <th>BLOOMBERG POLARLAKE USA LLC</th>\n",
       "      <td>4</td>\n",
       "      <td>118500.000</td>\n",
       "      <td>118000</td>\n",
       "      <td>120000</td>\n",
       "    </tr>\n",
       "    <tr>\n",
       "      <th>BLOOMBERG INDEX SERVICES LIMITED</th>\n",
       "      <td>3</td>\n",
       "      <td>103333.333</td>\n",
       "      <td>70000</td>\n",
       "      <td>135000</td>\n",
       "    </tr>\n",
       "    <tr>\n",
       "      <th>BLOOMBERG ASSOCIATES LLC</th>\n",
       "      <td>2</td>\n",
       "      <td>70000.000</td>\n",
       "      <td>65000</td>\n",
       "      <td>75000</td>\n",
       "    </tr>\n",
       "    <tr>\n",
       "      <th>BLOOMBERG STP LLC</th>\n",
       "      <td>1</td>\n",
       "      <td>145500.000</td>\n",
       "      <td>145500</td>\n",
       "      <td>145500</td>\n",
       "    </tr>\n",
       "  </tbody>\n",
       "</table>\n",
       "</div>"
      ],
      "text/plain": [
       "                                  count        mean     min     max\n",
       "EMPLOYER                                                           \n",
       "BLOOMBERG LP                       2130  142303.227   45000  585000\n",
       "FACTSET RESEARCH SYSTEMS INC        653   92029.936   30035  210000\n",
       "BLOOMBERG TRADEBOOK LLC               9  180944.444   50000  315000\n",
       "BLOOMBERG POLARLAKE USA LLC           4  118500.000  118000  120000\n",
       "BLOOMBERG INDEX SERVICES LIMITED      3  103333.333   70000  135000\n",
       "BLOOMBERG ASSOCIATES LLC              2   70000.000   65000   75000\n",
       "BLOOMBERG STP LLC                     1  145500.000  145500  145500"
      ]
     },
     "execution_count": 11,
     "metadata": {},
     "output_type": "execute_result"
    }
   ],
   "source": [
    "agglist = ('count','mean', 'min', 'max')\n",
    "pd.set_option('precision',3)\n",
    "\n",
    "temp3 = df_.pivot_table('BASE SALARY', index = [\"EMPLOYER\"], aggfunc = agglist)\n",
    "\n",
    "temp3.sort_values('count', ascending=False)"
   ]
  },
  {
   "cell_type": "code",
   "execution_count": null,
   "metadata": {
    "collapsed": true
   },
   "outputs": [],
   "source": [
    "factset= df_[df_['EMPLOYER']=='FACTSET RESEARCH SYSTEMS INC']\n",
    "factset"
   ]
  },
  {
   "cell_type": "code",
   "execution_count": 34,
   "metadata": {},
   "outputs": [
    {
     "data": {
      "text/plain": [
       "SOFTWARE_ENGINEER                                               477\n",
       "FINANCIAL ENGINEER                                               36\n",
       "DEVELOPER_                                                       23\n",
       "SYSTEMS ENGINEER                                                 16\n",
       "MACHINE_LEARNING                                                 12\n",
       "ASSOCIATE CONTENT MANAGER                                         8\n",
       "PRODUCT MANAGER                                                   8\n",
       "BUSINESS ANALYST                                                  5\n",
       "QUALITY ASSURANCE ENGINEER                                        3\n",
       "CONTENT SPECIALIST                                                3\n",
       "SOLUTIONS ARCHITECT                                               3\n",
       "SENIOR SYSTEMS ENGINEER                                           3\n",
       "NLP/ML TECHNICAL LEAD                                             3\n",
       "SENIOR PRODUCT MANAGER                                            3\n",
       "RESEARCH ASSOCIATE                                                3\n",
       "QUALITY ASSURANCE ANALYST                                         3\n",
       "VICE PRESIDENT, ASSOCIATE DIRECTOR, SALES AND CONSUTING TECH      2\n",
       "INTERACTION DESIGNER                                              2\n",
       "PROGRAMMER / ANALYST                                              2\n",
       "PRODUCT SPECIALIST                                                2\n",
       "LEAD SYSTEMS ENGINEER                                             2\n",
       "CONTENT MANAGER                                                   2\n",
       "QA ANALYST                                                        2\n",
       "SQL SERVER DBA                                                    2\n",
       "INFORMATION SYSTEMS MANAGER, CONSULTING & SALES                   1\n",
       "DATABASE ADMINSTRATOR                                             1\n",
       "VICE PRESIDENT, ASSOCIATE DIRECTOR, SALES AND CONSULTING          1\n",
       "SENIOR QA ANALYST                                                 1\n",
       "ANALYTICS RESEARCH ASSISTANT                                      1\n",
       "NETWORK ENGINEER                                                  1\n",
       "SECURITY ASSURANCE ENGINEER                                       1\n",
       "MANAGER OF RISK ANALYTICS ENGINEERING GROUP                       1\n",
       "MANAGER, RISK ANALYTICS ENGINEERING                               1\n",
       "AMERICAS GLOBAL BANKS GBB STRATEGIC CONSULTANT                    1\n",
       "RESEARCH ANALYST                                                  1\n",
       "SENIOR CONTENT SPECIALIST                                         1\n",
       "JUNIOR INTERACTION DESIGNER                                       1\n",
       "DATABASE ADMINISTRATOR                                            1\n",
       "QA AUTOMATION ENGINEER                                            1\n",
       "DATA SCIENTIST                                                    1\n",
       "RESEARCH  SPECIALIST                                              1\n",
       "UNIVERSAL SCREENING APPLICATION MANAGER                           1\n",
       "PROJECT MANAGER                                                   1\n",
       "ASSOCIATE DIRECTOR, CONSULTING & SALES INFORMATION                1\n",
       "QUALITY ASSURANCE MANAGER                                         1\n",
       "TECHNICAL CONSULTANT                                              1\n",
       "ASSOCIATE DIRECTOR, APPLICATION DEVELOPMENT                       1\n",
       "ASSOCIATE PRODUCT MANAGER                                         1\n",
       "ASSOCIATE DIRECTOR QUALITY ASSURANCE                              1\n",
       "DATA WAREHOUSE ENGINEER                                           1\n",
       "GLOBAL HEAD OF DEVELOPMENT & PROFESSIONAL SERVICES- PORTWARE      1\n",
       "PRODUCT MANAGER - FIXED INCOME RESEARCH                           1\n",
       "Name: JOB TITLE, dtype: int64"
      ]
     },
     "execution_count": 34,
     "metadata": {},
     "output_type": "execute_result"
    }
   ],
   "source": [
    "factset['JOB TITLE'].value_counts()"
   ]
  },
  {
   "cell_type": "code",
   "execution_count": 13,
   "metadata": {},
   "outputs": [
    {
     "data": {
      "text/plain": [
       "SENIOR SOFTWARE DEVELOPER                        754\n",
       "SOFTWARE ENGINEER                                484\n",
       "SOFTWARE DEVELOPER                               335\n",
       "TEAM LEADER                                      171\n",
       "SENIOR SOFTWARE ENGINEER                          63\n",
       "FINANCIAL ENGINEER                                44\n",
       "REPORTER                                          34\n",
       "FIS REPRESENTATIVE                                24\n",
       "PRODUCT MANAGER                                   21\n",
       "EDITOR                                            20\n",
       "SYSTEMS ENGINEER                                  17\n",
       "QUANTITATIVE ANALYST                              16\n",
       "DATA ANALYST                                      15\n",
       "SAP ABAP DEVELOPER                                13\n",
       "LEAD SOFTWARE ENGINEER                            13\n",
       "MACHINE LEARNING ENGINEER                         12\n",
       "UX DESIGNER                                       11\n",
       "IMPLEMENTATION SPECIALIST                         10\n",
       "FINANCIAL INFORMATION SERVICES REPRESENTATIVE     10\n",
       "RESEARCH ASSOCIATE                                10\n",
       "QUANTITATIVE DEVELOPER                            10\n",
       "PRODUCT DEVELOPER                                  8\n",
       "REGULATORY REPRESENTATIVE                          8\n",
       "ASSOCIATE CONTENT MANAGER                          8\n",
       "ACCOUNT MANAGER                                    8\n",
       "NETWORK ENGINEER                                   8\n",
       "SYSTEMS RELIABILITY ENGINEER                       6\n",
       "APPLICATION SPECIALIST                             6\n",
       "DATA SCIENTIST                                     6\n",
       "NETWORK OPERATIONS ENGINEER                        6\n",
       "                                                ... \n",
       "DERIVATIVES BUSINESS AND SALES SPECIALIST          1\n",
       "TRANSLATOR                                         1\n",
       "SENIOR FULL STACK DEVELOPER                        1\n",
       "ADSK REPRESENTATIVE                                1\n",
       "AGILE COACH SCRUM MASTER                           1\n",
       "SOFTWARE QA ANALYST - TOMS TRADING SOLUTIONS       1\n",
       "R&D NEWS APPLICATION SENIOR SOFTWARE ENGINEER      1\n",
       "CREDIT FINANCIAL ENGINEER                          1\n",
       "SENIOR SOFTWARE DEVELOPER - FIXED INCOME CORE      1\n",
       "WASHINGTON POLICY ASSOCIATE                        1\n",
       "DIGITAL PRODUCT MANAGER                            1\n",
       "GTEC TEAM LEADER                                   1\n",
       "NEWS ANALYST                                       1\n",
       "OPERATIONS ENGINEER                                1\n",
       "FEEDS INFRASTRUCTURE DEVELOPER                     1\n",
       "INFRASTRUCTURE ADMINISTRATOR/DEVELOPER             1\n",
       "FINANCIAL ENGINEER, DERIVATIVES                    1\n",
       "BUSINESS REPORTING ANALYST                         1\n",
       "SENIOR NEWS ANALYST                                1\n",
       "TRADEBOOK QUANTITATIVE ANALYST                     1\n",
       "FIELD SERVICES ENGINEER (TECHNICIAN)               1\n",
       "SENIOR NETWORK & SYSTEMS SECURITY ENGINEER         1\n",
       "EUROPE SPEED REPORTER                              1\n",
       "SENIOR NETWORK ARCHITECT                           1\n",
       "TECHNICAL ARCHITECT - TEAM LEADER                  1\n",
       "SOFTWARE QUALITY ASSURANCE ENGINEER                1\n",
       "IMPLEMENTATION SPEC FICC                           1\n",
       "CORPORATE FINANCE REPORTER                         1\n",
       "BUSINESS OPERATIONS SPECIALIST                     1\n",
       "SPEED EDITOR                                       1\n",
       "Name: JOB TITLE, dtype: int64"
      ]
     },
     "execution_count": 13,
     "metadata": {},
     "output_type": "execute_result"
    }
   ],
   "source": [
    "#show types of jobs\n",
    "df_['JOB TITLE'].value_counts()"
   ]
  },
  {
   "cell_type": "markdown",
   "metadata": {},
   "source": [
    "#### Factset Only"
   ]
  },
  {
   "cell_type": "code",
   "execution_count": 14,
   "metadata": {},
   "outputs": [
    {
     "data": {
      "text/plain": [
       "SOFTWARE ENGINEER                                               434\n",
       "FINANCIAL ENGINEER                                               36\n",
       "SENIOR SOFTWARE ENGINEER                                         24\n",
       "SYSTEMS ENGINEER                                                 16\n",
       "LEAD SOFTWARE ENGINEER                                           13\n",
       "MACHINE LEARNING ENGINEER                                        12\n",
       "SOFTWARE DEVELOPER                                                9\n",
       "PRODUCT MANAGER                                                   8\n",
       "ASSOCIATE CONTENT MANAGER                                         8\n",
       "PRODUCT DEVELOPER                                                 8\n",
       "SENIOR SOFTWARE DEVELOPER                                         5\n",
       "BUSINESS ANALYST                                                  5\n",
       "QUALITY ASSURANCE ENGINEER                                        3\n",
       "NLP/ML TECHNICAL LEAD                                             3\n",
       "CONTENT SPECIALIST                                                3\n",
       "SENIOR SYSTEMS ENGINEER                                           3\n",
       "SOLUTIONS ARCHITECT                                               3\n",
       "SENIOR PRODUCT MANAGER                                            3\n",
       "RESEARCH ASSOCIATE                                                3\n",
       "QUALITY ASSURANCE ANALYST                                         3\n",
       "PRINCIPAL SOFTWARE ENGINEER                                       2\n",
       "VICE PRESIDENT, ASSOCIATE DIRECTOR, SALES AND CONSUTING TECH      2\n",
       "CONTENT MANAGER                                                   2\n",
       "SQL SERVER DBA                                                    2\n",
       "LEAD SYSTEMS ENGINEER                                             2\n",
       "QA ANALYST                                                        2\n",
       "SOFTWARE ENGINEER II                                              2\n",
       "INTERACTION DESIGNER                                              2\n",
       "PRODUCT SPECIALIST                                                2\n",
       "PROGRAMMER / ANALYST                                              2\n",
       "                                                               ... \n",
       "MANAGER OF RISK ANALYTICS ENGINEERING GROUP                       1\n",
       "AMERICAS GLOBAL BANKS GBB STRATEGIC CONSULTANT                    1\n",
       "DATABASE ADMINSTRATOR                                             1\n",
       "SOFTWARE ENGINEER III                                             1\n",
       "NETWORK ENGINEER                                                  1\n",
       "SENIOR CONTENT SPECIALIST                                         1\n",
       "RESEARCH ANALYST                                                  1\n",
       "INFORMATION SYSTEMS MANAGER, CONSULTING & SALES                   1\n",
       "SENIOR QA ANALYST                                                 1\n",
       "SOFTWARE ENGINEERING MANAGER                                      1\n",
       "FIXED INCOME PRODUCT DEVELOPER                                    1\n",
       "SECURITY ASSURANCE ENGINEER                                       1\n",
       "DATA WAREHOUSE ENGINEER                                           1\n",
       "JUNIOR INTERACTION DESIGNER                                       1\n",
       "PROJECT MANAGER                                                   1\n",
       "ASSOCIATE PRODUCT MANAGER                                         1\n",
       "ANALYTICS RESEARCH ASSISTANT                                      1\n",
       "QUALITY ASSURANCE MANAGER                                         1\n",
       "PRODUCT MANAGER - FIXED INCOME RESEARCH                           1\n",
       "GLOBAL HEAD OF DEVELOPMENT & PROFESSIONAL SERVICES- PORTWARE      1\n",
       "TECHNICAL CONSULTANT                                              1\n",
       "UNIVERSAL SCREENING APPLICATION MANAGER                           1\n",
       "VICE PRESIDENT, ASSOCIATE DIRECTOR, SALES AND CONSULTING          1\n",
       "ASSOCIATE DIRECTOR QUALITY ASSURANCE                              1\n",
       "DATA SCIENTIST                                                    1\n",
       "ASSOCIATE DIRECTOR, APPLICATION DEVELOPMENT                       1\n",
       "QA AUTOMATION ENGINEER                                            1\n",
       "ASSOCIATE DIRECTOR, CONSULTING & SALES INFORMATION                1\n",
       "RESEARCH  SPECIALIST                                              1\n",
       "DATABASE ADMINISTRATOR                                            1\n",
       "Name: JOB TITLE, dtype: int64"
      ]
     },
     "execution_count": 14,
     "metadata": {},
     "output_type": "execute_result"
    }
   ],
   "source": [
    "#show types of jobs\n",
    "df_2 = collection[1] #Factsets df\n",
    "\n",
    "df_2['BASE SALARY']= df_2['BASE SALARY'].str.replace(',','').astype(int)\n",
    "\n",
    "df_2['JOB TITLE'].value_counts()"
   ]
  },
  {
   "cell_type": "code",
   "execution_count": null,
   "metadata": {
    "collapsed": true
   },
   "outputs": [],
   "source": [
    "%matplotlib inline\n",
    "\n",
    "agglist = ('count', 'mean', 'max')\n",
    "new = df_2.pivot_table('BASE SALARY', index='JOB TITLE', aggfunc=agglist)\n",
    "new.sort_values('mean', ascending = False)"
   ]
  },
  {
   "cell_type": "code",
   "execution_count": 24,
   "metadata": {},
   "outputs": [
    {
     "data": {
      "text/plain": [
       "EMPLOYER\n",
       "FACTSET RESEARCH SYSTEMS INC    Axes(0.125,0.125;0.775x0.755)\n",
       "Name: BASE SALARY, dtype: object"
      ]
     },
     "execution_count": 24,
     "metadata": {},
     "output_type": "execute_result"
    },
    {
     "data": {
      "image/png": "[encoded data removed]",
      "text/plain": [
       "<matplotlib.figure.Figure at 0x10e906a0>"
      ]
     },
     "metadata": {},
     "output_type": "display_data"
    }
   ],
   "source": [
    "df_2.groupby(['EMPLOYER'])['BASE SALARY'].plot(kind='box', legend = True, meanline = True, showmeans=True)\n"
   ]
  },
  {
   "cell_type": "code",
   "execution_count": 16,
   "metadata": {},
   "outputs": [
    {
     "data": {
      "text/plain": [
       "EMPLOYER\n",
       "FACTSET RESEARCH SYSTEMS INC    Axes(0.125,0.125;0.775x0.755)\n",
       "Name: BASE SALARY, dtype: object"
      ]
     },
     "execution_count": 16,
     "metadata": {},
     "output_type": "execute_result"
    },
    {
     "data": {
      "image/png": "[encoded data removed]",
      "text/plain": [
       "<matplotlib.figure.Figure at 0x10e98da0>"
      ]
     },
     "metadata": {},
     "output_type": "display_data"
    }
   ],
   "source": [
    "\n",
    "df_2.groupby(['EMPLOYER'])['BASE SALARY'].plot(kind='hist', legend = True, bins=5)\n"
   ]
  },
  {
   "cell_type": "markdown",
   "metadata": {},
   "source": [
    "### Merge Titles in main DF"
   ]
  },
  {
   "cell_type": "code",
   "execution_count": 25,
   "metadata": {},
   "outputs": [
    {
     "name": "stderr",
     "output_type": "stream",
     "text": [
      "C:\\Users\\traveler\\Anaconda3\\envs\\py35\\lib\\site-packages\\ipykernel_launcher.py:6: SettingWithCopyWarning: \n",
      "A value is trying to be set on a copy of a slice from a DataFrame\n",
      "\n",
      "See the caveats in the documentation: http://pandas.pydata.org/pandas-docs/stable/indexing.html#indexing-view-versus-copy\n",
      "  \n",
      "C:\\Users\\traveler\\Anaconda3\\envs\\py35\\lib\\site-packages\\ipykernel_launcher.py:12: SettingWithCopyWarning: \n",
      "A value is trying to be set on a copy of a slice from a DataFrame\n",
      "\n",
      "See the caveats in the documentation: http://pandas.pydata.org/pandas-docs/stable/indexing.html#indexing-view-versus-copy\n",
      "  if sys.path[0] == '':\n"
     ]
    },
    {
     "data": {
      "text/plain": [
       "DEVELOPER_                                       1170\n",
       "SOFTWARE_ENGINEER                                 572\n",
       "TEAM LEADER                                       171\n",
       "FINANCIAL ENGINEER                                 44\n",
       "REPORTER                                           34\n",
       "FIS REPRESENTATIVE                                 24\n",
       "PRODUCT MANAGER                                    21\n",
       "EDITOR                                             20\n",
       "SYSTEMS ENGINEER                                   17\n",
       "QUANTITATIVE ANALYST                               16\n",
       "DATA ANALYST                                       15\n",
       "MACHINE_LEARNING                                   14\n",
       "UX DESIGNER                                        11\n",
       "FINANCIAL INFORMATION SERVICES REPRESENTATIVE      10\n",
       "RESEARCH ASSOCIATE                                 10\n",
       "IMPLEMENTATION SPECIALIST                          10\n",
       "REGULATORY REPRESENTATIVE                           8\n",
       "ACCOUNT MANAGER                                     8\n",
       "ASSOCIATE CONTENT MANAGER                           8\n",
       "NETWORK ENGINEER                                    8\n",
       "SYSTEMS RELIABILITY ENGINEER                        6\n",
       "GRAPHIC DESIGNER                                    6\n",
       "SOLUTIONS MANAGER                                   6\n",
       "SAP BUSINESS WAREHOUSE ANALYST                      6\n",
       "MORTGAGE MODELER                                    6\n",
       "APPLICATION SPECIALIST                              6\n",
       "SYSTEM RELIABILITY ENGINEER                         6\n",
       "NETWORK OPERATIONS ENGINEER                         6\n",
       "BUSINESS ANALYST                                    6\n",
       "DATA SCIENTIST                                      6\n",
       "                                                 ... \n",
       "HEDGE ACCOUNTING DERIVATIVES SPECIALIST             1\n",
       "TALENT EXPERIENCE SPECIALIST                        1\n",
       "SECURITY ANALYST                                    1\n",
       "ID AND SYMBOLOGY ANALYST                            1\n",
       "ADVANCED SPECIALIST                                 1\n",
       "SENIOR SALES REPRESENTATIVE - BLOOMBERG VAULT       1\n",
       "DERIVATIVES BUSINESS AND SALES SPECIALIST           1\n",
       "AGILE COACH SCRUM MASTER                            1\n",
       "CREDIT FINANCIAL ENGINEER                           1\n",
       "CIS TECHNICAL SUPPORT ANALYST                       1\n",
       "SENIOR NEWS ANALYST                                 1\n",
       "PRODUCT MANAGER - FIXED INCOME RESEARCH             1\n",
       "WASHINGTON POLICY ASSOCIATE                         1\n",
       "DIGITAL PRODUCT MANAGER                             1\n",
       "GTEC TEAM LEADER                                    1\n",
       "NEWS ANALYST                                        1\n",
       "OPERATIONS ENGINEER                                 1\n",
       "FINANCIAL ENGINEER, DERIVATIVES                     1\n",
       "BUSINESS REPORTING ANALYST                          1\n",
       "TRADEBOOK QUANTITATIVE ANALYST                      1\n",
       "BUSINESS OPERATIONS SPECIALIST                      1\n",
       "FIELD SERVICES ENGINEER (TECHNICIAN)                1\n",
       "SENIOR NETWORK & SYSTEMS SECURITY ENGINEER          1\n",
       "EUROPE SPEED REPORTER                               1\n",
       "SENIOR NETWORK ARCHITECT                            1\n",
       "TECHNICAL ARCHITECT - TEAM LEADER                   1\n",
       "SOFTWARE QUALITY ASSURANCE ENGINEER                 1\n",
       "IMPLEMENTATION SPEC FICC                            1\n",
       "CORPORATE FINANCE REPORTER                          1\n",
       "EXPERIENCED MOBILE VISUAL UI DESIGNER               1\n",
       "Name: JOB TITLE, dtype: int64"
      ]
     },
     "execution_count": 25,
     "metadata": {},
     "output_type": "execute_result"
    }
   ],
   "source": [
    "#two ways to merge similar titles \n",
    "#method1\n",
    "df_['JOB TITLE'][df_['JOB TITLE'].str.contains('SOFTWARE ENGINEER')] =\"SOFTWARE_ENGINEER\"\n",
    "\n",
    "#method2\n",
    "df_['JOB TITLE']= df_['JOB TITLE'].apply(lambda x: \"MACHINE_LEARNING\" if \"MACHINE LEARNING\" in x else x)\n",
    "\n",
    "##bonus grouping\n",
    "df_['JOB TITLE'][df_['JOB TITLE'].str.contains('DEVELOPER')] =\"DEVELOPER_\"\n",
    "\n",
    "\n",
    "df_['JOB TITLE'].value_counts()"
   ]
  },
  {
   "cell_type": "code",
   "execution_count": 28,
   "metadata": {},
   "outputs": [
    {
     "data": {
      "text/html": [
       "<div>\n",
       "<table border=\"1\" class=\"dataframe\">\n",
       "  <thead>\n",
       "    <tr style=\"text-align: right;\">\n",
       "      <th></th>\n",
       "      <th>EMPLOYER</th>\n",
       "      <th>JOB TITLE</th>\n",
       "      <th>BASE SALARY</th>\n",
       "      <th>LOCATION</th>\n",
       "      <th>SUBMIT DATE</th>\n",
       "      <th>START DATE</th>\n",
       "      <th>CASE STATUS</th>\n",
       "      <th>STATE</th>\n",
       "    </tr>\n",
       "  </thead>\n",
       "  <tbody>\n",
       "    <tr>\n",
       "      <th>359</th>\n",
       "      <td>BLOOMBERG LP</td>\n",
       "      <td>MACHINE_LEARNING</td>\n",
       "      <td>150000</td>\n",
       "      <td>NEW YORK, NY</td>\n",
       "      <td>08/18/2014</td>\n",
       "      <td>09/02/2014</td>\n",
       "      <td>CERTIFIED</td>\n",
       "      <td>NY</td>\n",
       "    </tr>\n",
       "    <tr>\n",
       "      <th>650</th>\n",
       "      <td>BLOOMBERG LP</td>\n",
       "      <td>MACHINE_LEARNING</td>\n",
       "      <td>220000</td>\n",
       "      <td>NEW YORK, NY</td>\n",
       "      <td>05/26/2017</td>\n",
       "      <td>07/17/2017</td>\n",
       "      <td>CERTIFIED</td>\n",
       "      <td>NY</td>\n",
       "    </tr>\n",
       "    <tr>\n",
       "      <th>2234</th>\n",
       "      <td>FACTSET RESEARCH SYSTEMS INC</td>\n",
       "      <td>MACHINE_LEARNING</td>\n",
       "      <td>90000</td>\n",
       "      <td>NEW YORK, NY</td>\n",
       "      <td>03/03/2017</td>\n",
       "      <td>08/30/2017</td>\n",
       "      <td>DENIED</td>\n",
       "      <td>NY</td>\n",
       "    </tr>\n",
       "    <tr>\n",
       "      <th>2235</th>\n",
       "      <td>FACTSET RESEARCH SYSTEMS INC</td>\n",
       "      <td>MACHINE_LEARNING</td>\n",
       "      <td>90000</td>\n",
       "      <td>NEW YORK, NY</td>\n",
       "      <td>03/03/2017</td>\n",
       "      <td>08/30/2017</td>\n",
       "      <td>CERTIFIED</td>\n",
       "      <td>NY</td>\n",
       "    </tr>\n",
       "    <tr>\n",
       "      <th>2236</th>\n",
       "      <td>FACTSET RESEARCH SYSTEMS INC</td>\n",
       "      <td>MACHINE_LEARNING</td>\n",
       "      <td>90000</td>\n",
       "      <td>NEW YORK, NY</td>\n",
       "      <td>03/03/2017</td>\n",
       "      <td>08/30/2017</td>\n",
       "      <td>CERTIFIED</td>\n",
       "      <td>NY</td>\n",
       "    </tr>\n",
       "    <tr>\n",
       "      <th>2237</th>\n",
       "      <td>FACTSET RESEARCH SYSTEMS INC</td>\n",
       "      <td>MACHINE_LEARNING</td>\n",
       "      <td>95000</td>\n",
       "      <td>NEW YORK, NY</td>\n",
       "      <td>03/05/2018</td>\n",
       "      <td>09/04/2018</td>\n",
       "      <td>CERTIFIED</td>\n",
       "      <td>NY</td>\n",
       "    </tr>\n",
       "    <tr>\n",
       "      <th>2238</th>\n",
       "      <td>FACTSET RESEARCH SYSTEMS INC</td>\n",
       "      <td>MACHINE_LEARNING</td>\n",
       "      <td>95000</td>\n",
       "      <td>NEW YORK, NY</td>\n",
       "      <td>03/05/2018</td>\n",
       "      <td>09/04/2018</td>\n",
       "      <td>CERTIFIED</td>\n",
       "      <td>NY</td>\n",
       "    </tr>\n",
       "    <tr>\n",
       "      <th>2239</th>\n",
       "      <td>FACTSET RESEARCH SYSTEMS INC</td>\n",
       "      <td>MACHINE_LEARNING</td>\n",
       "      <td>95000</td>\n",
       "      <td>NEW YORK, NY</td>\n",
       "      <td>03/05/2018</td>\n",
       "      <td>09/04/2018</td>\n",
       "      <td>CERTIFIED</td>\n",
       "      <td>NY</td>\n",
       "    </tr>\n",
       "    <tr>\n",
       "      <th>2240</th>\n",
       "      <td>FACTSET RESEARCH SYSTEMS INC</td>\n",
       "      <td>MACHINE_LEARNING</td>\n",
       "      <td>95000</td>\n",
       "      <td>NEW YORK, NY</td>\n",
       "      <td>03/03/2017</td>\n",
       "      <td>08/30/2017</td>\n",
       "      <td>CERTIFIED</td>\n",
       "      <td>NY</td>\n",
       "    </tr>\n",
       "    <tr>\n",
       "      <th>2241</th>\n",
       "      <td>FACTSET RESEARCH SYSTEMS INC</td>\n",
       "      <td>MACHINE_LEARNING</td>\n",
       "      <td>95000</td>\n",
       "      <td>NEW YORK, NY</td>\n",
       "      <td>03/03/2017</td>\n",
       "      <td>08/30/2017</td>\n",
       "      <td>CERTIFIED</td>\n",
       "      <td>NY</td>\n",
       "    </tr>\n",
       "    <tr>\n",
       "      <th>2242</th>\n",
       "      <td>FACTSET RESEARCH SYSTEMS INC</td>\n",
       "      <td>MACHINE_LEARNING</td>\n",
       "      <td>100000</td>\n",
       "      <td>NEW YORK, NY</td>\n",
       "      <td>03/06/2017</td>\n",
       "      <td>08/30/2017</td>\n",
       "      <td>CERTIFIED</td>\n",
       "      <td>NY</td>\n",
       "    </tr>\n",
       "    <tr>\n",
       "      <th>2243</th>\n",
       "      <td>FACTSET RESEARCH SYSTEMS INC</td>\n",
       "      <td>MACHINE_LEARNING</td>\n",
       "      <td>100000</td>\n",
       "      <td>AUSTIN, TX</td>\n",
       "      <td>08/23/2017</td>\n",
       "      <td>10/01/2017</td>\n",
       "      <td>CERTIFIED</td>\n",
       "      <td>TX</td>\n",
       "    </tr>\n",
       "    <tr>\n",
       "      <th>2244</th>\n",
       "      <td>FACTSET RESEARCH SYSTEMS INC</td>\n",
       "      <td>MACHINE_LEARNING</td>\n",
       "      <td>100000</td>\n",
       "      <td>AUSTIN, TX</td>\n",
       "      <td>08/23/2017</td>\n",
       "      <td>10/02/2017</td>\n",
       "      <td>CERTIFIED</td>\n",
       "      <td>TX</td>\n",
       "    </tr>\n",
       "    <tr>\n",
       "      <th>2245</th>\n",
       "      <td>FACTSET RESEARCH SYSTEMS INC</td>\n",
       "      <td>MACHINE_LEARNING</td>\n",
       "      <td>115000</td>\n",
       "      <td>NEW YORK, NY</td>\n",
       "      <td>03/01/2017</td>\n",
       "      <td>08/24/2017</td>\n",
       "      <td>CERTIFIED</td>\n",
       "      <td>NY</td>\n",
       "    </tr>\n",
       "  </tbody>\n",
       "</table>\n",
       "</div>"
      ],
      "text/plain": [
       "                          EMPLOYER         JOB TITLE  BASE SALARY  \\\n",
       "359                   BLOOMBERG LP  MACHINE_LEARNING       150000   \n",
       "650                   BLOOMBERG LP  MACHINE_LEARNING       220000   \n",
       "2234  FACTSET RESEARCH SYSTEMS INC  MACHINE_LEARNING        90000   \n",
       "2235  FACTSET RESEARCH SYSTEMS INC  MACHINE_LEARNING        90000   \n",
       "2236  FACTSET RESEARCH SYSTEMS INC  MACHINE_LEARNING        90000   \n",
       "2237  FACTSET RESEARCH SYSTEMS INC  MACHINE_LEARNING        95000   \n",
       "2238  FACTSET RESEARCH SYSTEMS INC  MACHINE_LEARNING        95000   \n",
       "2239  FACTSET RESEARCH SYSTEMS INC  MACHINE_LEARNING        95000   \n",
       "2240  FACTSET RESEARCH SYSTEMS INC  MACHINE_LEARNING        95000   \n",
       "2241  FACTSET RESEARCH SYSTEMS INC  MACHINE_LEARNING        95000   \n",
       "2242  FACTSET RESEARCH SYSTEMS INC  MACHINE_LEARNING       100000   \n",
       "2243  FACTSET RESEARCH SYSTEMS INC  MACHINE_LEARNING       100000   \n",
       "2244  FACTSET RESEARCH SYSTEMS INC  MACHINE_LEARNING       100000   \n",
       "2245  FACTSET RESEARCH SYSTEMS INC  MACHINE_LEARNING       115000   \n",
       "\n",
       "          LOCATION SUBMIT DATE  START DATE CASE STATUS STATE  \n",
       "359   NEW YORK, NY  08/18/2014  09/02/2014   CERTIFIED    NY  \n",
       "650   NEW YORK, NY  05/26/2017  07/17/2017   CERTIFIED    NY  \n",
       "2234  NEW YORK, NY  03/03/2017  08/30/2017      DENIED    NY  \n",
       "2235  NEW YORK, NY  03/03/2017  08/30/2017   CERTIFIED    NY  \n",
       "2236  NEW YORK, NY  03/03/2017  08/30/2017   CERTIFIED    NY  \n",
       "2237  NEW YORK, NY  03/05/2018  09/04/2018   CERTIFIED    NY  \n",
       "2238  NEW YORK, NY  03/05/2018  09/04/2018   CERTIFIED    NY  \n",
       "2239  NEW YORK, NY  03/05/2018  09/04/2018   CERTIFIED    NY  \n",
       "2240  NEW YORK, NY  03/03/2017  08/30/2017   CERTIFIED    NY  \n",
       "2241  NEW YORK, NY  03/03/2017  08/30/2017   CERTIFIED    NY  \n",
       "2242  NEW YORK, NY  03/06/2017  08/30/2017   CERTIFIED    NY  \n",
       "2243    AUSTIN, TX  08/23/2017  10/01/2017   CERTIFIED    TX  \n",
       "2244    AUSTIN, TX  08/23/2017  10/02/2017   CERTIFIED    TX  \n",
       "2245  NEW YORK, NY  03/01/2017  08/24/2017   CERTIFIED    NY  "
      ]
     },
     "execution_count": 28,
     "metadata": {},
     "output_type": "execute_result"
    }
   ],
   "source": [
    "%matplotlib inline\n",
    "import seaborn as sns\n",
    "sns.set()\n",
    "\n",
    "#filter/sub-set just on a single job description\n",
    "position1 = df_[df_['JOB TITLE'] == 'MACHINE_LEARNING']\n",
    "position1"
   ]
  },
  {
   "cell_type": "code",
   "execution_count": 27,
   "metadata": {},
   "outputs": [
    {
     "data": {
      "text/plain": [
       "<matplotlib.axes._subplots.AxesSubplot at 0x121d06d8>"
      ]
     },
     "execution_count": 27,
     "metadata": {},
     "output_type": "execute_result"
    },
    {
     "data": {
      "image/png": "[encoded data removed]",
      "text/plain": [
       "<matplotlib.figure.Figure at 0x120d97f0>"
      ]
     },
     "metadata": {},
     "output_type": "display_data"
    }
   ],
   "source": [
    "position1['BASE SALARY'].plot(kind='hist', bins=5)"
   ]
  },
  {
   "cell_type": "code",
   "execution_count": 20,
   "metadata": {},
   "outputs": [
    {
     "data": {
      "text/plain": [
       "<matplotlib.axes._subplots.AxesSubplot at 0x12004fd0>"
      ]
     },
     "execution_count": 20,
     "metadata": {},
     "output_type": "execute_result"
    },
    {
     "data": {
      "image/png": "[encoded data removed]",
      "text/plain": [
       "<matplotlib.figure.Figure at 0x11c9ae48>"
      ]
     },
     "metadata": {},
     "output_type": "display_data"
    }
   ],
   "source": [
    "position1['BASE SALARY'].plot(kind='box', legend=True)"
   ]
  },
  {
   "cell_type": "code",
   "execution_count": null,
   "metadata": {
    "collapsed": true
   },
   "outputs": [],
   "source": []
  }
 ],
 "metadata": {
  "kernelspec": {
   "display_name": "Python 3",
   "language": "python",
   "name": "python3"
  },
  "language_info": {
   "codemirror_mode": {
    "name": "ipython",
    "version": 3
   },
   "file_extension": ".py",
   "mimetype": "text/x-python",
   "name": "python",
   "nbconvert_exporter": "python",
   "pygments_lexer": "ipython3",
   "version": "3.5.3"
  }
 },
 "nbformat": 4,
 "nbformat_minor": 2
}
